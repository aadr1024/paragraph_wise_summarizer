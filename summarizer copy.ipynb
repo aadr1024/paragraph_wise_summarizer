{
 "cells": [
  {
   "attachments": {},
   "cell_type": "markdown",
   "metadata": {},
   "source": [
    "# Paragraph wise summarizer"
   ]
  },
  {
   "cell_type": "code",
   "execution_count": 5,
   "metadata": {},
   "outputs": [
    {
     "name": "stdout",
     "output_type": "stream",
     "text": [
      "Defaulting to user installation because normal site-packages is not writeable\n",
      "Requirement already satisfied: llama-index in /Users/presentations(work)/Library/Python/3.9/lib/python/site-packages (0.6.38.post1)\n",
      "Requirement already satisfied: tiktoken in /Users/presentations(work)/Library/Python/3.9/lib/python/site-packages (from llama-index) (0.4.0)\n",
      "Requirement already satisfied: dataclasses-json in /Users/presentations(work)/Library/Python/3.9/lib/python/site-packages (from llama-index) (0.5.9)\n",
      "Requirement already satisfied: langchain>=0.0.218 in /Users/presentations(work)/Library/Python/3.9/lib/python/site-packages (from llama-index) (0.0.222)\n",
      "Requirement already satisfied: sqlalchemy>=2.0.15 in /Users/presentations(work)/Library/Python/3.9/lib/python/site-packages (from llama-index) (2.0.17)\n",
      "Requirement already satisfied: numpy in /Users/presentations(work)/Library/Python/3.9/lib/python/site-packages (from llama-index) (1.25.0)\n",
      "Requirement already satisfied: tenacity<9.0.0,>=8.2.0 in /Users/presentations(work)/Library/Python/3.9/lib/python/site-packages (from llama-index) (8.2.2)\n",
      "Requirement already satisfied: openai>=0.26.4 in /Users/presentations(work)/Library/Python/3.9/lib/python/site-packages (from llama-index) (0.27.8)\n",
      "Requirement already satisfied: pandas in /Users/presentations(work)/Library/Python/3.9/lib/python/site-packages (from llama-index) (2.0.3)\n",
      "Requirement already satisfied: urllib3<2 in /Users/presentations(work)/Library/Python/3.9/lib/python/site-packages (from llama-index) (1.26.16)\n",
      "Requirement already satisfied: fsspec>=2023.5.0 in /Users/presentations(work)/Library/Python/3.9/lib/python/site-packages (from llama-index) (2023.6.0)\n",
      "Requirement already satisfied: typing-inspect==0.8.0 in /Users/presentations(work)/Library/Python/3.9/lib/python/site-packages (from llama-index) (0.8.0)\n",
      "Requirement already satisfied: typing-extensions==4.5.0 in /Users/presentations(work)/Library/Python/3.9/lib/python/site-packages (from llama-index) (4.5.0)\n",
      "Requirement already satisfied: beautifulsoup4 in /Users/presentations(work)/Library/Python/3.9/lib/python/site-packages (from llama-index) (4.12.2)\n",
      "Requirement already satisfied: mypy-extensions>=0.3.0 in /Users/presentations(work)/Library/Python/3.9/lib/python/site-packages (from typing-inspect==0.8.0->llama-index) (1.0.0)\n",
      "Requirement already satisfied: PyYAML>=5.4.1 in /Users/presentations(work)/Library/Python/3.9/lib/python/site-packages (from langchain>=0.0.218->llama-index) (6.0)\n",
      "Requirement already satisfied: aiohttp<4.0.0,>=3.8.3 in /Users/presentations(work)/Library/Python/3.9/lib/python/site-packages (from langchain>=0.0.218->llama-index) (3.8.4)\n",
      "Requirement already satisfied: async-timeout<5.0.0,>=4.0.0 in /Users/presentations(work)/Library/Python/3.9/lib/python/site-packages (from langchain>=0.0.218->llama-index) (4.0.2)\n",
      "Requirement already satisfied: langchainplus-sdk>=0.0.17 in /Users/presentations(work)/Library/Python/3.9/lib/python/site-packages (from langchain>=0.0.218->llama-index) (0.0.19)\n",
      "Requirement already satisfied: numexpr<3.0.0,>=2.8.4 in /Users/presentations(work)/Library/Python/3.9/lib/python/site-packages (from langchain>=0.0.218->llama-index) (2.8.4)\n",
      "Requirement already satisfied: openapi-schema-pydantic<2.0,>=1.2 in /Users/presentations(work)/Library/Python/3.9/lib/python/site-packages (from langchain>=0.0.218->llama-index) (1.2.4)\n",
      "Requirement already satisfied: pydantic<2,>=1 in /Users/presentations(work)/Library/Python/3.9/lib/python/site-packages (from langchain>=0.0.218->llama-index) (1.10.10)\n",
      "Requirement already satisfied: requests<3,>=2 in /Users/presentations(work)/Library/Python/3.9/lib/python/site-packages (from langchain>=0.0.218->llama-index) (2.31.0)\n",
      "Requirement already satisfied: marshmallow<4.0.0,>=3.3.0 in /Users/presentations(work)/Library/Python/3.9/lib/python/site-packages (from dataclasses-json->llama-index) (3.19.0)\n",
      "Requirement already satisfied: marshmallow-enum<2.0.0,>=1.5.1 in /Users/presentations(work)/Library/Python/3.9/lib/python/site-packages (from dataclasses-json->llama-index) (1.5.1)\n",
      "Requirement already satisfied: tqdm in /Users/presentations(work)/Library/Python/3.9/lib/python/site-packages (from openai>=0.26.4->llama-index) (4.65.0)\n",
      "Requirement already satisfied: soupsieve>1.2 in /Users/presentations(work)/Library/Python/3.9/lib/python/site-packages (from beautifulsoup4->llama-index) (2.4.1)\n",
      "Requirement already satisfied: python-dateutil>=2.8.2 in /Users/presentations(work)/Library/Python/3.9/lib/python/site-packages (from pandas->llama-index) (2.8.2)\n",
      "Requirement already satisfied: pytz>=2020.1 in /Users/presentations(work)/Library/Python/3.9/lib/python/site-packages (from pandas->llama-index) (2023.3)\n",
      "Requirement already satisfied: tzdata>=2022.1 in /Users/presentations(work)/Library/Python/3.9/lib/python/site-packages (from pandas->llama-index) (2023.3)\n",
      "Requirement already satisfied: regex>=2022.1.18 in /Users/presentations(work)/Library/Python/3.9/lib/python/site-packages (from tiktoken->llama-index) (2023.6.3)\n",
      "Requirement already satisfied: attrs>=17.3.0 in /Users/presentations(work)/Library/Python/3.9/lib/python/site-packages (from aiohttp<4.0.0,>=3.8.3->langchain>=0.0.218->llama-index) (23.1.0)\n",
      "Requirement already satisfied: charset-normalizer<4.0,>=2.0 in /Users/presentations(work)/Library/Python/3.9/lib/python/site-packages (from aiohttp<4.0.0,>=3.8.3->langchain>=0.0.218->llama-index) (3.1.0)\n",
      "Requirement already satisfied: multidict<7.0,>=4.5 in /Users/presentations(work)/Library/Python/3.9/lib/python/site-packages (from aiohttp<4.0.0,>=3.8.3->langchain>=0.0.218->llama-index) (6.0.4)\n",
      "Requirement already satisfied: yarl<2.0,>=1.0 in /Users/presentations(work)/Library/Python/3.9/lib/python/site-packages (from aiohttp<4.0.0,>=3.8.3->langchain>=0.0.218->llama-index) (1.9.2)\n",
      "Requirement already satisfied: frozenlist>=1.1.1 in /Users/presentations(work)/Library/Python/3.9/lib/python/site-packages (from aiohttp<4.0.0,>=3.8.3->langchain>=0.0.218->llama-index) (1.3.3)\n",
      "Requirement already satisfied: aiosignal>=1.1.2 in /Users/presentations(work)/Library/Python/3.9/lib/python/site-packages (from aiohttp<4.0.0,>=3.8.3->langchain>=0.0.218->llama-index) (1.3.1)\n",
      "Requirement already satisfied: packaging>=17.0 in /Users/presentations(work)/Library/Python/3.9/lib/python/site-packages (from marshmallow<4.0.0,>=3.3.0->dataclasses-json->llama-index) (23.1)\n",
      "Requirement already satisfied: six>=1.5 in /Library/Developer/CommandLineTools/Library/Frameworks/Python3.framework/Versions/3.9/lib/python3.9/site-packages (from python-dateutil>=2.8.2->pandas->llama-index) (1.15.0)\n",
      "Requirement already satisfied: idna<4,>=2.5 in /Users/presentations(work)/Library/Python/3.9/lib/python/site-packages (from requests<3,>=2->langchain>=0.0.218->llama-index) (3.4)\n",
      "Requirement already satisfied: certifi>=2017.4.17 in /Users/presentations(work)/Library/Python/3.9/lib/python/site-packages (from requests<3,>=2->langchain>=0.0.218->llama-index) (2023.5.7)\n",
      "Defaulting to user installation because normal site-packages is not writeable\n",
      "Collecting pypdf\n",
      "  Downloading pypdf-3.12.0-py3-none-any.whl (254 kB)\n",
      "\u001b[2K     \u001b[90m━━━━━━━━━━━━━━━━━━━━━━━━━━━━━━━━━━━━━━━\u001b[0m \u001b[32m254.5/254.5 kB\u001b[0m \u001b[31m2.7 MB/s\u001b[0m eta \u001b[36m0:00:00\u001b[0ma \u001b[36m0:00:01\u001b[0m\n",
      "\u001b[?25hRequirement already satisfied: typing_extensions>=3.10.0.0 in /Users/presentations(work)/Library/Python/3.9/lib/python/site-packages (from pypdf) (4.5.0)\n",
      "Installing collected packages: pypdf\n",
      "Successfully installed pypdf-3.12.0\n"
     ]
    }
   ],
   "source": [
    "# install libraries\n",
    "! pip3 install llama-index\n",
    "! pip3 install pypdf\n"
   ]
  },
  {
   "cell_type": "code",
   "execution_count": 7,
   "metadata": {},
   "outputs": [],
   "source": [
    "# collect input text\n",
    "from llama_index import SimpleDirectoryReader\n",
    "documents = SimpleDirectoryReader('./data').load_data()"
   ]
  },
  {
   "cell_type": "code",
   "execution_count": 2,
   "metadata": {},
   "outputs": [],
   "source": [
    "# Create summary\n"
   ]
  },
  {
   "cell_type": "code",
   "execution_count": 3,
   "metadata": {},
   "outputs": [],
   "source": [
    "# create evaluation of accuracy"
   ]
  }
 ],
 "metadata": {
  "kernelspec": {
   "display_name": "Python 3",
   "language": "python",
   "name": "python3"
  },
  "language_info": {
   "codemirror_mode": {
    "name": "ipython",
    "version": 3
   },
   "file_extension": ".py",
   "mimetype": "text/x-python",
   "name": "python",
   "nbconvert_exporter": "python",
   "pygments_lexer": "ipython3",
   "version": "3.9.6"
  },
  "orig_nbformat": 4
 },
 "nbformat": 4,
 "nbformat_minor": 2
}
